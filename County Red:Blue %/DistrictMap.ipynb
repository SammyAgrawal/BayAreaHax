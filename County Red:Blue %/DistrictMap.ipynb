{
 "cells": [
  {
   "cell_type": "code",
   "execution_count": 21,
   "metadata": {},
   "outputs": [
    {
     "data": {
      "text/plain": [
       "['Acton',\n",
       " 'Arlington',\n",
       " 'Ashby',\n",
       " 'Ashland',\n",
       " 'Ayer',\n",
       " 'Bedford',\n",
       " 'Belmont',\n",
       " 'Billerica',\n",
       " 'Boxborough',\n",
       " 'Burlington',\n",
       " 'Cambridge',\n",
       " 'Carlisle',\n",
       " 'Chelmsford',\n",
       " 'Concord',\n",
       " 'Dracut',\n",
       " 'Dunstable',\n",
       " 'Everett',\n",
       " 'Framingham',\n",
       " 'Groton',\n",
       " 'Holliston',\n",
       " 'Hopkinton',\n",
       " 'Hudson',\n",
       " 'Lexington',\n",
       " 'Lincoln',\n",
       " 'Littleton',\n",
       " 'Lowell',\n",
       " 'Malden',\n",
       " 'Marlborough',\n",
       " 'Maynard',\n",
       " 'Medford',\n",
       " 'Melrose',\n",
       " 'Natick',\n",
       " 'Newton',\n",
       " 'North-Reading',\n",
       " 'Pepperell',\n",
       " 'Reading',\n",
       " 'Sherborn',\n",
       " 'Shirley',\n",
       " 'Somerville',\n",
       " 'Stoneham',\n",
       " 'Stow',\n",
       " 'Sudbury',\n",
       " 'Tewksbury',\n",
       " 'Townsend',\n",
       " 'Tyngsborough',\n",
       " 'Wakefield',\n",
       " 'Waltham',\n",
       " 'Watertown',\n",
       " 'Wayland',\n",
       " 'Westford',\n",
       " 'Weston',\n",
       " 'Wilmington',\n",
       " 'Winchester',\n",
       " 'Woburn']"
      ]
     },
     "execution_count": 21,
     "metadata": {},
     "output_type": "execute_result"
    }
   ],
   "source": [
    "BarnstableCounty = (\"Barnstable Bourne Brewster Chatham Dennis Eastham Falmouth Harwich Mashpee Orleans Provincetown Sandwich Truro Wellfleet Yarmouth\").split()\n",
    "\n",
    "BerkshireCounty = (\"Adams Alford Becket Cheshire Clarksburg Dalton Egremont Florida Great-Barrington Hancock Hinsdale Lanesborough Lee Lenox Monterey Mt-Washington New-Ashford New-Marlborough North-Adams Otis Peru Pittsfield Richmond Sandisfield Savoy Sheffield Stockbridge Tyringham Washington West-Stockbridge Williamstown Windsor\").split()\n",
    "\n",
    "BristolCounty = (\"Acushnet Attleboro Berkley Dartmouth Dighton Easton Fairhaven Fall-River Freetown Mansfield New-Bedford North-Attleborough Norton Raynham Rehoboth Seekonk Somerset Swansea Taunton Westport\").split()\n",
    "\n",
    "DukesCounty = (\"Aquinnah Chilmark Edgartown Gosnold Oak-Bluffs Tisbury West-Tisbury\").split()\n",
    "\n",
    "EssexCounty = (\"AmesburyAndover Beverly Boxford Danvers Essex Georgetown Gloucester Groveland Hamilton Haverhill Ipswich Lawrence LynnLynnfield Manchester-by-the-sea Marblehead Merrimac Methuen Middleton Nahant Newbury Newburyport North-Andover Peabody Rockport Rowley Salem Salisbury Saugus Swampscott Topsfield Wenham West-Newbury\").split()\n",
    "\n",
    "FranklinCounty = (\"AshfieldBernardston Buckland Charlemont Colrain Conway Deerfield Erving Gill Greenfield Hawley Heath Leverett Leyden Monroe Montague New-Salem Northfield Orange Rowe Shelburne Shutesbury Sunderland Warwick Wendell Whately\").split()\n",
    "\n",
    "HampdenCounty = (\"Agawam Blandford Brimfield Chester Chicopee East-Longmeadow Granville Hampden Holland Holyoke Longmeadow Ludlow Monson Montgomery Palmer Russell Southwick Springfield Tolland Wales West-Springfield Westfield Wilbraham\").split()\n",
    "\n",
    "HampshireCounty = (\"Amherst Belchertown Chesterfield Cummington Easthampton Goshen Granby HadleyHatfield Huntington Middlefield Northampton Pelham Plainfield South-Hadley Southampton Ware Westhampton Williamsburg Worthington\").split()\n",
    "\n",
    "PlymouthCounty = (\"Abington Bridgewater Brockton Carver Duxbury East-Bridgewater Halifax Hanover Hanson Hingham Hull Kingston Lakeville Marion Marshfield Mattapoisett Middleborough Norwell Pembroke Plymouth Plympton Rochester Rockland Scituate Wareham West-Bridgewater Whitman\").split()\n",
    "\n",
    "SuffolkCounty = (\"Boston Chelsea Revere Winthrop\").split()\n",
    "\n",
    "WorcesterCounty = (\"Ashburnham Athol Auburn BarreBerlin Blackstone Bolton Boylston Brookfield Charlton Clinton Douglas Dudley East-Brookfield Fitchburg Gardner Grafton Hardwick Harvard Holden Hopedale Hubbardston Lancaster Leicester Leominster Lunenburg Mendon Milford Millbury Millville New-Braintree North-Brookfield Northborough Northbridge Oakham Oxford Paxton Petersham Phillipston Princeton Royalston Rutland Shrewsbury Southborough Southbridge Spencer Sterling Sturbridge Sutton Templeton Upton Uxbridge Warren Webster West-Boylston West-Brookfield Westborough Westminster Winchendon Worcester\").split()\n",
    "\n",
    "NantucketCounty = [\"Nantucket\"]\n",
    "\n",
    "NorfolkCounty = (\"Avon Bellingham Braintree Brookline Canton Cohasset Dedham Dover Foxborough Franklin Holbrook Medfield Medway Millis Milton Needham Norfolk Norwood Plainville Quincy Randolph Sharon Stoughton Walpole Wellesley Westwood Weymouth Wrentham\").split()\n",
    "\n",
    "MiddlesexCounty = (\"Acton Arlington Ashby Ashland Ayer Bedford Belmont Billerica Boxborough Burlington Cambridge Carlisle Chelmsford Concord Dracut Dunstable Everett Framingham Groton Holliston Hopkinton Hudson Lexington Lincoln Littleton Lowell Malden Marlborough Maynard Medford Melrose Natick Newton North-Reading Pepperell Reading Sherborn Shirley Somerville Stoneham Stow Sudbury Tewksbury Townsend Tyngsborough Wakefield Waltham Watertown Wayland Westford Weston Wilmington Winchester Woburn\").split()\n",
    "\n",
    "MiddlesexCounty"
   ]
  },
  {
   "cell_type": "code",
   "execution_count": null,
   "metadata": {},
   "outputs": [],
   "source": []
  }
 ],
 "metadata": {
  "kernelspec": {
   "display_name": "Python 3",
   "language": "python",
   "name": "python3"
  },
  "language_info": {
   "codemirror_mode": {
    "name": "ipython",
    "version": 3
   },
   "file_extension": ".py",
   "mimetype": "text/x-python",
   "name": "python",
   "nbconvert_exporter": "python",
   "pygments_lexer": "ipython3",
   "version": "3.7.4"
  }
 },
 "nbformat": 4,
 "nbformat_minor": 2
}
